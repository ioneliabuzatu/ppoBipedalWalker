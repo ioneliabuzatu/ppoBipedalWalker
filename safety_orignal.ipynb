{
 "cells": [
  {
   "cell_type": "markdown",
   "metadata": {
    "id": "1CumJu-KrCvU"
   },
   "source": [
    "# Deep Reinforcement Lerning Lectures - Policy Gradients"
   ]
  },
  {
   "cell_type": "markdown",
   "metadata": {
    "id": "q37atdWHrCvV"
   },
   "source": [
    "### Imports and auxiliary settings"
   ]
  },
  {
   "cell_type": "code",
   "execution_count": null,
   "metadata": {
    "id": "AUTCq3LfrCvX"
   },
   "outputs": [],
   "source": [
    "!apt update\n",
    "!apt install -y xvfb x11-utils python-opengl ffmpeg\n",
    "!pip install gym==0.17.3 pyvirtualdisplay\n",
    "!pip install box2d-py\n",
    "!pip install onnx onnxruntime\n",
    "!pip install gym[Box_2D]"
   ]
  },
  {
   "cell_type": "code",
   "execution_count": 1,
   "metadata": {
    "id": "te40-9xZrCvc"
   },
   "outputs": [],
   "source": [
    "# select device\n",
    "import os\n",
    "os.environ[\"CUDA_VISIBLE_DEVICES\"] = \"0\""
   ]
  },
  {
   "cell_type": "code",
   "execution_count": 2,
   "metadata": {
    "id": "lBwre4vHrCvg"
   },
   "outputs": [
    {
     "data": {
      "text/plain": [
       "<pyvirtualdisplay.display.Display at 0x7f4684a1bbe0>"
      ]
     },
     "execution_count": 2,
     "metadata": {},
     "output_type": "execute_result"
    }
   ],
   "source": [
    "%matplotlib inline\n",
    "\n",
    "# PyTorch imports\n",
    "import torch\n",
    "import torch.optim as optim\n",
    "import torch.nn as nn\n",
    "import torch.nn.functional as F\n",
    "from torch.distributions import Normal\n",
    "from torch.utils.data import Dataset, DataLoader\n",
    "\n",
    "# Auxiliary Python imports\n",
    "import onnx\n",
    "import io\n",
    "import glob\n",
    "import copy\n",
    "import base64\n",
    "import random\n",
    "import numpy as np\n",
    "from tqdm.notebook import tqdm\n",
    "from time import sleep\n",
    "\n",
    "# Environment import and set logger level to display error only\n",
    "import gym; gym.logger.set_level(40)\n",
    "from gym.wrappers import Monitor\n",
    "\n",
    "# Plotting and notebook imports\n",
    "import matplotlib.pyplot as plt\n",
    "import seaborn as sns; sns.set()\n",
    "from IPython.display import HTML, display, clear_output\n",
    "\n",
    "# start virtual display\n",
    "from pyvirtualdisplay import Display\n",
    "pydisplay = Display(visible=0, size=(640, 480))\n",
    "pydisplay.start()"
   ]
  },
  {
   "cell_type": "code",
   "execution_count": 3,
   "metadata": {
    "id": "OmUL9JubrCvj"
   },
   "outputs": [],
   "source": [
    "# use GPU if available\n",
    "device = torch.device(\"cuda\" if torch.cuda.is_available() else \"cpu\")"
   ]
  },
  {
   "cell_type": "markdown",
   "metadata": {
    "id": "Ugq-0cVvrCvo"
   },
   "source": [
    "### Auxiliary Methods"
   ]
  },
  {
   "cell_type": "code",
   "execution_count": 4,
   "metadata": {
    "id": "Nd0Ue1cirCvp"
   },
   "outputs": [],
   "source": [
    "def wrap_env(env):\n",
    "    # wrapper for recording\n",
    "    env = Monitor(env, './video', force=True)\n",
    "    return env\n",
    "\n",
    "\n",
    "def create_env(env_id='BipedalWalker-v3'):\n",
    "    # initialize environment\n",
    "    env = wrap_env(gym.make(env_id))\n",
    "    action_size = env.action_space.shape[0]\n",
    "    state_size = env.observation_space.shape[0]\n",
    "    return env, action_size, state_size\n",
    "\n",
    "\n",
    "def set_seed(env, seed=None):\n",
    "    # seeding the envrionment\n",
    "    if seed is not None:\n",
    "        random.seed(seed)\n",
    "        env.seed(seed)\n",
    "        np.random.seed(seed)\n",
    "        torch.manual_seed(seed)\n",
    "        if torch.cuda.is_available():\n",
    "            torch.cuda.manual_seed(seed)\n",
    "            torch.cuda.manual_seed_all(seed)\n",
    "\n",
    "\n",
    "def transforms(state):\n",
    "    # transofrm to numpy to tensor and push to device\n",
    "    return torch.FloatTensor(state).to(device)\n",
    "\n",
    "            \n",
    "def test_environment(env, agent=None, n_steps=200):\n",
    "    # run and evaluate in the environment\n",
    "    state = env.reset()\n",
    "    for i in range(n_steps):\n",
    "        env.render()\n",
    "\n",
    "        if agent is None:\n",
    "            action = env.action_space.sample()\n",
    "        else:\n",
    "            action, _ = agent.act(state)\n",
    "            action = np.clip(action.squeeze().numpy(), -1, 1)\n",
    "        state, reward, done, info = env.step(action)\n",
    "        if done:\n",
    "            env.reset()\n",
    "    env.close()\n",
    "\n",
    "\n",
    "def get_running_stat(stat, stat_len):\n",
    "    # evaluate stats\n",
    "    cum_sum = np.cumsum(np.insert(stat, 0, 0)) \n",
    "    return (cum_sum[stat_len:] - cum_sum[:-stat_len]) / stat_len\n",
    "\n",
    "\n",
    "def plot_results(runner, reward_scale=1.0):\n",
    "    # plot stats\n",
    "    episode, r, l = np.array(runner.stats_rewards_list).T\n",
    "    cum_r = get_running_stat(r, 10)\n",
    "    cum_l = get_running_stat(l, 10)\n",
    "    \n",
    "    plt.figure(figsize=(16, 16))\n",
    "\n",
    "    plt.subplot(321)\n",
    "\n",
    "    # plot rewards\n",
    "    plt.plot(episode[-len(cum_r):], cum_r)\n",
    "    plt.plot(episode, r, alpha=0.5)\n",
    "    plt.xlabel('Episode')\n",
    "    plt.ylabel('Episode Reward')\n",
    "   \n",
    "    plt.subplot(322)\n",
    "    \n",
    "    # plot episode lengths\n",
    "    plt.plot(episode[-len(cum_l):], cum_l)\n",
    "    plt.plot(episode, l, alpha=0.5)\n",
    "    plt.xlabel('Episode')\n",
    "    plt.ylabel('Episode Length')\n",
    "    \n",
    "    plt.subplot(323)\n",
    "    \n",
    "    # plot return\n",
    "    all_returns = np.array(runner.buffer.all_returns)/reward_scale\n",
    "    plt.scatter(range(0, len(all_returns)), all_returns, alpha=0.5)\n",
    "    mean_returns = np.array(runner.buffer.mean_returns)/reward_scale # rescale back to original return\n",
    "    plt.plot(range(0, len(mean_returns)), mean_returns, color=\"orange\")\n",
    "    plt.xlabel('Episode')\n",
    "    plt.ylabel('Return')\n",
    "    \n",
    "    plt.subplot(324)\n",
    "    \n",
    "    # plot entropy\n",
    "    entropy_arr = np.array(runner.stats_entropy_list)\n",
    "    plt.plot(range(0, len(entropy_arr)), entropy_arr)\n",
    "    plt.xlabel('Episode')\n",
    "    plt.ylabel('Entropy')\n",
    "\n",
    "    plt.subplot(325)\n",
    "\n",
    "    if runner.logger.debug:\n",
    "        # plot variance\n",
    "        variance_arr = np.array(runner.logger.compute_gradient_variance())\n",
    "        plt.plot(range(0, len(variance_arr)), variance_arr)\n",
    "        plt.xlabel('Episode')\n",
    "        plt.ylabel('Variance')\n",
    "    \n",
    "    plt.show()\n",
    "\n",
    "\n",
    "\"\"\"\n",
    "Utility functions to enable video recording of gym environment and displaying it\n",
    "\"\"\"\n",
    "def show_video():\n",
    "    mp4list = glob.glob('video/*.mp4')\n",
    "    if len(mp4list) > 0:\n",
    "        mp4 = mp4list[0]\n",
    "        video = io.open(mp4, 'r+b').read()\n",
    "        encoded = base64.b64encode(video)\n",
    "        display(HTML(data='''<video alt=\"test\" autoplay \n",
    "                  loop controls style=\"height: 400px;\">\n",
    "                  <source src=\"data:video/mp4;base64,{0}\" type=\"video/mp4\" />\n",
    "                </video>'''.format(encoded.decode('ascii'))))\n",
    "    else: \n",
    "        print(\"Could not find video\")\n",
    "\n",
    "\n",
    "def grad_variance(g):\n",
    "    # compute gradient variance\n",
    "    return np.mean(g**2) - np.mean(g)**2\n",
    "\n",
    "\n",
    "class Logger(object):\n",
    "    \"\"\"Logger that can be used for debugging different values\n",
    "    \"\"\"\n",
    "    def __init__(self, debug=False):\n",
    "        self.gradients = []\n",
    "        self.debug = debug\n",
    "\n",
    "    def add_gradients(self, grad):\n",
    "        if not self.debug: return\n",
    "        self.gradients.append(grad)\n",
    "\n",
    "    def compute_gradient_variance(self):\n",
    "        vars_ = []\n",
    "        grads_list = [np.zeros_like(self.gradients[0])] * 100\n",
    "        for i, grads in enumerate(self.gradients):\n",
    "            grads_list.append(grads)\n",
    "            grads_list = grads_list[1:]\n",
    "            grad_arr = np.stack(grads_list, axis=0)\n",
    "            g = np.apply_along_axis(grad_variance, axis=-1, arr=grad_arr)\n",
    "            vars_.append(np.mean(g))\n",
    "        return vars_"
   ]
  },
  {
   "cell_type": "markdown",
   "metadata": {
    "id": "v9aGjeWvrCvt"
   },
   "source": [
    "### Test environment"
   ]
  },
  {
   "cell_type": "markdown",
   "metadata": {
    "id": "Dnk4dSKurCvu"
   },
   "source": [
    "OpenAI offers a set of environments for Reinforcement Learning, which are accessible via the `gym` pip package.\n",
    "In this exercise we will focus on discrete control tasks using a Box2D simulation known as BipedalWalker-v3.\n",
    "To access the Box2D packages, make sure you have installed gym via `pip install gym` and the Box2D simulator via `pip install box2d box2d-kengz` command in the terminal in advance."
   ]
  },
  {
   "cell_type": "code",
   "execution_count": 5,
   "metadata": {
    "id": "fzQtckrZrCvw"
   },
   "outputs": [
    {
     "data": {
      "text/html": [
       "<video alt=\"test\" autoplay \n",
       "                  loop controls style=\"height: 400px;\">\n",
       "                  <source src=\"data:video/mp4;base64,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\" type=\"video/mp4\" />\n",
       "                </video>"
      ],
      "text/plain": [
       "<IPython.core.display.HTML object>"
      ]
     },
     "metadata": {},
     "output_type": "display_data"
    }
   ],
   "source": [
    "# show behavior in envrionment with random agent\n",
    "env, _, _ = create_env()\n",
    "test_environment(env)\n",
    "show_video()"
   ]
  },
  {
   "cell_type": "markdown",
   "metadata": {
    "id": "TLuXOizAFhfm"
   },
   "source": [
    "### Training Buffer"
   ]
  },
  {
   "cell_type": "code",
   "execution_count": 6,
   "metadata": {
    "id": "V-IHrVviFcqw"
   },
   "outputs": [],
   "source": [
    "class Transition(object):\n",
    "    \"\"\"Transition helper object\n",
    "    \"\"\"\n",
    "    def __init__(self, state, action, reward, next_state, log_probs):\n",
    "        self.state = state\n",
    "        self.action = action\n",
    "        self.reward = reward\n",
    "        self.next_state = next_state\n",
    "        self.g_return = 0.0\n",
    "        self.log_probs = log_probs\n",
    "\n",
    "\n",
    "class Episode(object):\n",
    "    \"\"\"Class for collecting an episode of transitions\n",
    "    \"\"\"\n",
    "    def __init__(self, discount):\n",
    "        self.discount = discount\n",
    "        self._empty()\n",
    "        self.total_reward = 0.0\n",
    "\n",
    "    def _empty(self):\n",
    "        self.n = 0\n",
    "        self.transitions = []\n",
    "\n",
    "    def reset(self):\n",
    "        self._empty()\n",
    "\n",
    "    def size(self):\n",
    "        return self.n\n",
    "\n",
    "    def append(self, transition):\n",
    "        self.transitions.append(transition)\n",
    "        self.n += 1\n",
    "        \n",
    "    def states(self):\n",
    "        return [s.state for s in self.transitions]\n",
    "    \n",
    "    def actions(self):\n",
    "        return [a.action for a in self.transitions]\n",
    "    \n",
    "    def rewards(self):\n",
    "        return [r.reward for r in self.transitions]\n",
    "\n",
    "    def next_states(self):\n",
    "        return [s_.next_state for s_ in self.transitions]\n",
    "    \n",
    "    def returns(self):\n",
    "        return [r.g_return for r in self.transitions]\n",
    "    \n",
    "    def calculate_return(self):\n",
    "        # calculate the return of the episode\n",
    "        rewards = self.rewards()\n",
    "        trajectory_len = len(rewards)\n",
    "        return_array = torch.zeros((trajectory_len,))\n",
    "        g_return = 0.\n",
    "        for i in range(trajectory_len-1, -1, -1):\n",
    "            g_return = rewards[i] + discount*g_return\n",
    "            return_array[i] = g_return\n",
    "            self.transitions[i].g_return = g_return\n",
    "        return return_array\n",
    "\n",
    "\n",
    "class BufferDataset(Dataset):\n",
    "    \"\"\"Buffer dataset used to iterate over buffer samples when training.\n",
    "    \"\"\"\n",
    "    def __init__(self, data):\n",
    "        self.data = data\n",
    "\n",
    "    def __len__(self):\n",
    "        return len(self.data)\n",
    "\n",
    "    def __getitem__(self, idx):\n",
    "        t = self.data[idx]\n",
    "        return t.state, t.action, t.reward, t.next_state, t.log_probs\n",
    "\n",
    "\n",
    "class ReplayBuffer(object):\n",
    "    # ===================================================\n",
    "    # ++++++++++++++++++++ OPTIONAL +++++++++++++++++++++\n",
    "    # ===================================================\n",
    "    # > feel free to optimize sampling and buffer handling\n",
    "    # ===================================================\n",
    "    \"\"\"Buffer to collect samples while rolling out in the envrionment.\n",
    "    \"\"\"\n",
    "    def __init__(self, capacity, batch_size, min_transitions):\n",
    "        self.capacity = capacity\n",
    "        self.batch_size = batch_size\n",
    "        self.min_transitions = min_transitions\n",
    "        self.buffer = []\n",
    "        self._empty()\n",
    "        self.mean_returns = []\n",
    "        self.all_returns = []\n",
    "        \n",
    "    def _empty(self):\n",
    "        # empty the buffer\n",
    "        del self.buffer[:]\n",
    "        self.position = 0\n",
    "\n",
    "    def add(self, episode):\n",
    "        # Saves a transition\n",
    "        episode.calculate_return()\n",
    "        for t in episode.transitions:\n",
    "            if len(self.buffer) < self.capacity:\n",
    "                self.buffer.append(None)\n",
    "            self.buffer[self.position] = t\n",
    "            self.position = (self.position + 1) % self.capacity\n",
    "            \n",
    "    def update_stats(self):\n",
    "        # update the statistics on the buffer\n",
    "        returns = [t.g_return for t in self.buffer]\n",
    "        self.all_returns += returns\n",
    "        mean_return = np.mean(np.array(returns))\n",
    "        self.mean_returns += ([mean_return]*len(returns))\n",
    "\n",
    "    def reset(self):\n",
    "        # calls empty\n",
    "        self._empty()\n",
    "\n",
    "    def create_dataloader(self):\n",
    "        # creates a dataloader for training\n",
    "        train_loader = DataLoader(\n",
    "            BufferDataset(self.buffer),\n",
    "            batch_size=self.batch_size,\n",
    "            shuffle=True\n",
    "        )\n",
    "        return train_loader\n",
    "\n",
    "    def __len__(self):\n",
    "        return len(self.buffer)"
   ]
  },
  {
   "cell_type": "markdown",
   "metadata": {
    "id": "qDtLH0LcrCvz"
   },
   "source": [
    "### Define Models"
   ]
  },
  {
   "cell_type": "code",
   "execution_count": 7,
   "metadata": {
    "id": "n4nI-GHnHCtT"
   },
   "outputs": [],
   "source": [
    "class ActorNet(nn.Module):\n",
    "    \"\"\"Actor network (policy)\n",
    "    \"\"\"\n",
    "    def __init__(self, state_size, action_size, hidden_size):\n",
    "        super(ActorNet, self).__init__()\n",
    "        # ===================================================\n",
    "        # ++++++++++++++++ YOUR CODE HERE +++++++++++++++++++\n",
    "        # ===================================================\n",
    "        # 1) find a suitable architecture for the actor\n",
    "        # ===================================================\n",
    "\n",
    "    def forward(self, x):\n",
    "        # ===================================================\n",
    "        # ++++++++++++++++ YOUR CODE HERE +++++++++++++++++++\n",
    "        # ===================================================\n",
    "        # 1) compute mu and sigma logit estimates\n",
    "        # ===================================================\n",
    "        return mu, sigma_logits\n",
    "\n",
    "\n",
    "class CriticNet(nn.Module):\n",
    "    \"\"\"Critic network computing the state value\n",
    "    \"\"\"\n",
    "    def __init__(self, state_size, action_size, hidden_size):\n",
    "        super(CriticNet, self).__init__()\n",
    "        # ===================================================\n",
    "        # ++++++++++++++++ YOUR CODE HERE +++++++++++++++++++\n",
    "        # ===================================================\n",
    "        # 1) find a suitable architecture for the critic\n",
    "        # ===================================================\n",
    "\n",
    "    def forward(self, x):\n",
    "        # ===================================================\n",
    "        # ++++++++++++++++ YOUR CODE HERE +++++++++++++++++++\n",
    "        # ===================================================\n",
    "        # 1) compute the value estimates\n",
    "        # ===================================================\n",
    "        return value\n",
    "\n",
    "\n",
    "class ActorCriticNet(nn.Module):\n",
    "    \"\"\"Combining both networks and add helper methods to act and evaluate samples.\n",
    "    \"\"\"\n",
    "    def __init__(self, state_size, action_size, hidden_size):\n",
    "        super(ActorCriticNet, self).__init__()\n",
    "        self.actor = ActorNet(state_size, action_size, hidden_size)\n",
    "        self.critic = CriticNet(state_size, action_size, hidden_size)\n",
    "\n",
    "    def forward(self, x):\n",
    "        x = x.reshape(1, -1)\n",
    "        return self.act(x)\n",
    "\n",
    "    def act(self, state):\n",
    "        # ===================================================\n",
    "        # ++++++++++++++++ YOUR CODE HERE +++++++++++++++++++\n",
    "        # ===================================================\n",
    "        # 1) get mean and sigma logits\n",
    "        # 2) softplus the sigma logits to ensure only positive values (add some eps value to avoid 0 probabilities)\n",
    "        # 3) create a distribution based on mu and sigma\n",
    "        # 4) sample from the distribution\n",
    "        # 5) get log probabilities \n",
    "        # ===================================================\n",
    "        return action, log_probs\n",
    "\n",
    "    def evaluate(self, state, action):\n",
    "        # ===================================================\n",
    "        # ++++++++++++++++ YOUR CODE HERE +++++++++++++++++++\n",
    "        # ===================================================\n",
    "        # 1) get mean and sigma logits\n",
    "        # 2) softplus the sigma logits to ensure only positive values (add some eps value to avoid 0 probabilities)\n",
    "        # 3) create a distribution based on mu and sigma\n",
    "        # 4) get log probabilities \n",
    "        # 5) get entropy from the distribution\n",
    "        # 6) evaluate state value\n",
    "        # ===================================================\n",
    "        return state_value, log_probs, entropy"
   ]
  },
  {
   "cell_type": "markdown",
   "metadata": {
    "id": "gqR7Fi06rCv8"
   },
   "source": [
    "### Define Agent"
   ]
  },
  {
   "cell_type": "code",
   "execution_count": 8,
   "metadata": {
    "id": "iUNQOvfqrCv9"
   },
   "outputs": [],
   "source": [
    "class Agent(object):\n",
    "    \"\"\"Agent class used for training, saving data and handling the model.\n",
    "    \"\"\"\n",
    "    def __init__(self, buffer, state_size, action_size, hidden_size, learning_rate, logger, eps_clip, n_epochs,\n",
    "                 weight_decay, betas, loss_scales, discount, checkpoint_dir=\"ckpts\"):\n",
    "        self.action_size = action_size\n",
    "        self.state_size = state_size\n",
    "        self.buffer = buffer\n",
    "        self.checkpoint_dir = checkpoint_dir\n",
    "        self.model = ActorCriticNet(state_size, action_size, hidden_size).to(device)\n",
    "        self.optimizer = optim.Adam(self.model.parameters(), lr=learning_rate, betas=betas, weight_decay=weight_decay)\n",
    "        self.loss_scales = loss_scales\n",
    "        self.n_epochs = n_epochs\n",
    "        self.eps_clip = eps_clip\n",
    "        self.logger = logger\n",
    "        self.discount = discount\n",
    "\n",
    "    def save_checkpoint(self, epoch, info=''):\n",
    "        \"\"\"Saves a model checkpoint\"\"\"\n",
    "        state = {\n",
    "            'info': info,\n",
    "            'epoch': epoch,\n",
    "            'state_dict': self.model.state_dict(),\n",
    "            'optimizer': self.optimizer.state_dict()\n",
    "        }\n",
    "        os.makedirs(self.checkpoint_dir, exist_ok=True)\n",
    "        ckp_name = 'best-checkpoint.pth' if info == 'best' else f'checkpoint-epoch{epoch}.pth'\n",
    "        filename = os.path.join(self.checkpoint_dir, ckp_name)\n",
    "        torch.save(state, filename)\n",
    "\n",
    "    def resume_checkpoint(self, resume_path):\n",
    "        \"\"\"Resumes training from an existing model checkpoint\"\"\"\n",
    "        print(\"Loading checkpoint: {} ...\".format(resume_path))\n",
    "        checkpoint = torch.load(resume_path)\n",
    "        # load architecture params from checkpoint.\n",
    "        self.model.load_state_dict(checkpoint['state_dict'])\n",
    "        # load optimizer state from checkpoint only when optimizer type is not changed.\n",
    "        self.optimizer.load_state_dict(checkpoint['optimizer'])\n",
    "        print(\"Checkpoint loaded. Resume training\")\n",
    "\n",
    "    def save_onnx_checkpoint(self, epoch, info=''):\n",
    "        \"\"\"Create an ONNX checkpoint\"\"\"\n",
    "        dummy_input = torch.randn((1, self.state_size))\n",
    "        dummy_input_t = transforms(dummy_input)\n",
    "        model = self.model.actor.to(torch.device('cpu'))\n",
    "        torch.onnx.export(model, dummy_input_t, f\"{info}submission_actor_{epoch}.onnx\", verbose=False, opset_version=10, export_params=True, do_constant_folding=True)\n",
    "\n",
    "    def check(self, file_name):\n",
    "        # Load the ONNX model\n",
    "        model = onnx.load(file_name)\n",
    "        # Check that the IR is well formed\n",
    "        onnx.checker.check_model(model)\n",
    "\n",
    "    @torch.no_grad()\n",
    "    def act(self, state):\n",
    "        # ===================================================\n",
    "        # ++++++++++++++++ YOUR CODE HERE +++++++++++++++++++\n",
    "        # ===================================================\n",
    "        # 1) prepare state tensors\n",
    "        # 2) check if shape is ok or expand acordingly\n",
    "        # 3) get action and log probabilities\n",
    "        # ===================================================\n",
    "        return action, log_probs\n",
    "\n",
    "    def train(self):\n",
    "        for i in range(self.n_epochs):   \n",
    "            # create the a dataloader based on the current buffer\n",
    "            loader = self.buffer.create_dataloader()\n",
    "            # iterate over the samples in the dataloader\n",
    "            for states, actions, rewards, next_states, old_log_probs in loader:\n",
    "                # create tensors\n",
    "                state_t = states.float().to(device).detach()\n",
    "                action_t = actions.to(device).detach()\n",
    "                reward_t = rewards.float().view(-1, 1).to(device).detach()\n",
    "                next_state_t = next_states.float().to(device).detach()\n",
    "                old_log_probs_t = old_log_probs.to(device).detach()\n",
    "\n",
    "                # ===================================================\n",
    "                # ++++++++++++++++ YOUR CODE HERE +++++++++++++++++++\n",
    "                # ===================================================\n",
    "                # 1) compute target value with next state and reward\n",
    "                # 2) compute advantage function from target and current state and action\n",
    "                # 3) compute importance sampling ratio from log probabilities\n",
    "                # 4) compute surrogate loss with the advantage and clipped surrogate loss\n",
    "                # 5) compute value losses\n",
    "                # 6) compute total loss with entropy regularization\n",
    "                # 7) compute gradients and perform optimization step\n",
    "                # ===================================================\n",
    "\n",
    "        # return losses and entropy\n",
    "        return (loss.mean().detach().cpu().numpy(), \n",
    "                value_loss.mean().detach().cpu().numpy(), \n",
    "                policy_loss.mean().detach().cpu().numpy()), entropy.mean().detach().cpu().numpy()"
   ]
  },
  {
   "cell_type": "markdown",
   "metadata": {
    "id": "5tPRbfRirCwA"
   },
   "source": [
    "### Define Task Runner"
   ]
  },
  {
   "cell_type": "code",
   "execution_count": 9,
   "metadata": {
    "id": "QgTjRX5FrCwB"
   },
   "outputs": [],
   "source": [
    "class Runner(object):\n",
    "    \"\"\"Runner class performing the rollout in the environment and calling the agent training function periodically\n",
    "    \"\"\"\n",
    "    def __init__(self, env, agent, buffer, logger, discount=0.99, n_episodes=5000, reward_scale=lambda x: x,\n",
    "                 use_buffer_reset=True, stats_interval=1, print_stats=True, min_average_reward=300, render=False, checkpoint_interval=100):\n",
    "        self.env = env\n",
    "        self.agent = agent\n",
    "        self.buffer = buffer\n",
    "        self.render = render\n",
    "        self.logger = logger\n",
    "        self.discount = discount\n",
    "        self.n_episodes = n_episodes\n",
    "        self.reward_scale = reward_scale\n",
    "        self.use_buffer_reset = use_buffer_reset\n",
    "        self.stats_interval = stats_interval\n",
    "        self.print_stats = print_stats\n",
    "        self.min_average_reward = min_average_reward\n",
    "        # store stats for plotting\n",
    "        self.stats_rewards_list = []\n",
    "        self.stats_entropy_list = []\n",
    "        # stats for running episodes\n",
    "        self.timesteps = 0\n",
    "        self.checkpoint_interval = checkpoint_interval\n",
    "        self.best_model = None\n",
    "        self.max_reward = -np.inf\n",
    "\n",
    "    def run(self):\n",
    "        self.agent.model.eval()\n",
    "        # train for n episodes\n",
    "        with tqdm(range(self.n_episodes)) as pbar:\n",
    "            for e in pbar:\n",
    "                # reset env and stats\n",
    "                state = self.env.reset()\n",
    "                total_losses = 0.\n",
    "                value_losses = 0.\n",
    "                policy_losses = 0.\n",
    "\n",
    "                # create new episode\n",
    "                episode = Episode(discount=self.discount)\n",
    "\n",
    "                # save model\n",
    "                if e % self.checkpoint_interval == 0:\n",
    "                    self.agent.save_checkpoint(e)\n",
    "\n",
    "                done = False\n",
    "                # train in each episode until episode is done\n",
    "                while not done:\n",
    "                    self.timesteps += 1\n",
    "                    # render env \n",
    "                    if self.render: self.env.render()\n",
    "\n",
    "                    # select an action from the agent's policy\n",
    "                    action, log_probs = self.agent.act(state)\n",
    "\n",
    "                    # enter action into the env\n",
    "                    act = action.cpu().squeeze().numpy()\n",
    "                    next_state, reward, done, _ = self.env.step(act)\n",
    "                    # collect reward\n",
    "                    episode.total_reward += reward\n",
    "                    # perform reward rescaling\n",
    "                    reward = self.reward_scale(reward)\n",
    "                    \n",
    "                    # store agent transition to the episode\n",
    "                    transition = Transition(state=state, action=action, reward=reward, next_state=next_state, log_probs=log_probs)\n",
    "                    episode.append(transition)\n",
    "\n",
    "                    # ===================================================\n",
    "                    # ++++++++++++++++++++ OPTIONAL +++++++++++++++++++++\n",
    "                    # ===================================================\n",
    "                    # > feel free to optimize the rollout / training loop\n",
    "                    # ===================================================\n",
    "                    # update stats and update agent if done\n",
    "                    if done:\n",
    "                        # add current episode to the replay buffer\n",
    "                        self.buffer.add(episode)\n",
    "                        # update stats\n",
    "                        self.stats_rewards_list.append((e, episode.total_reward, episode.size()))\n",
    "\n",
    "                        # skip if stored episodes are less than the batch size\n",
    "                        if len(self.buffer) < self.buffer.min_transitions: break\n",
    "\n",
    "                        # update the network\n",
    "                        self.agent.model.train()\n",
    "                        (total_loss, value_loss, policy_loss), entropy = self.agent.train()\n",
    "                        self.agent.model.eval()\n",
    "                        \n",
    "                        # update stats\n",
    "                        total_losses += total_loss\n",
    "                        value_losses += value_loss\n",
    "                        policy_losses += policy_loss\n",
    "                        self.stats_entropy_list.append(entropy)\n",
    "                        self.buffer.update_stats()\n",
    "                        \n",
    "                        # reset the buffer\n",
    "                        if self.use_buffer_reset: self.buffer.reset()\n",
    "                        # update the progress bar\n",
    "                        if self.print_stats and e % self.stats_interval == 0:\n",
    "                            pbar.set_description(\"[%03d] Reward: %.4f\" % (e, np.mean(self.stats_rewards_list[-self.stats_interval:],axis=0)[1]))\n",
    "                    \n",
    "                    state = next_state\n",
    "\n",
    "                # save best model\n",
    "                if self.best_model is None or episode.total_reward > self.max_reward:\n",
    "                    self.best_model = copy.deepcopy(self.agent.model)\n",
    "                    self.agent.save_checkpoint(e, 'best')\n",
    "                    self.max_reward = episode.total_reward"
   ]
  },
  {
   "cell_type": "markdown",
   "metadata": {
    "id": "YRZITOVcrCwE"
   },
   "source": [
    "### Train Agent"
   ]
  },
  {
   "cell_type": "code",
   "execution_count": 10,
   "metadata": {
    "id": "J2Bp93eSrCwF"
   },
   "outputs": [],
   "source": [
    "# create environment\n",
    "env, action_size, state_size = create_env()\n",
    "\n",
    "seed = 31\n",
    "# set seed\n",
    "set_seed(env, seed=seed)\n",
    "\n",
    "# ===================================================\n",
    "# ++++++++++++++++ YOUR CODE HERE +++++++++++++++++++\n",
    "# ===================================================\n",
    "# > find suitable hyperparameters\n",
    "# hyperparameters\n",
    "episodes = ... # run agent for this many episodes\n",
    "epochs = ... # run n epochs of network updates\n",
    "hidden_size = ... # number of units in NN hidden layers\n",
    "learning_rate = ... # learning rate for optimizer\n",
    "discount = ... # discount factor gamma value\n",
    "reward_scale = lambda x: x # reward scaling\n",
    "\n",
    "batch_size = ... # number of samples used for an update\n",
    "min_transitions = ... # number of minimum transitions until update is triggered\n",
    "capacity = ... # maximum number of transitions stored in the replay buffer\n",
    "\n",
    "use_buffer_reset = True # resets the buffer after every update\n",
    "eps_clip = ... # clipping or importance sampling updates\n",
    "loss_scales = (..., ..., ...) # loss scales (value loss, policy loss, entropy loss)\n",
    "betas = (..., ...) # optimizer beta parameters\n",
    "weight_decay = ... # optimizer weight decay\n",
    "checkpoint_interval = 100 # checkpoint interval to overwrite the parameters\n",
    "# ===================================================\n",
    "\n",
    "# additional settings\n",
    "print_stats = True\n",
    "render = False"
   ]
  },
  {
   "cell_type": "code",
   "execution_count": 11,
   "metadata": {
    "id": "XjSzAvdRrCwJ"
   },
   "outputs": [
    {
     "ename": "TypeError",
     "evalue": "'<=' not supported between instances of 'float' and 'ellipsis'",
     "output_type": "error",
     "traceback": [
      "\u001b[0;31m---------------------------------------------------------------------------\u001b[0m",
      "\u001b[0;31mTypeError\u001b[0m                                 Traceback (most recent call last)",
      "\u001b[0;32m<ipython-input-11-9d34d405204b>\u001b[0m in \u001b[0;36m<module>\u001b[0;34m\u001b[0m\n\u001b[1;32m      1\u001b[0m \u001b[0mlogger\u001b[0m \u001b[0;34m=\u001b[0m \u001b[0mLogger\u001b[0m\u001b[0;34m(\u001b[0m\u001b[0;34m)\u001b[0m\u001b[0;34m\u001b[0m\u001b[0;34m\u001b[0m\u001b[0m\n\u001b[1;32m      2\u001b[0m \u001b[0mbuffer\u001b[0m \u001b[0;34m=\u001b[0m \u001b[0mReplayBuffer\u001b[0m\u001b[0;34m(\u001b[0m\u001b[0mcapacity\u001b[0m\u001b[0;34m=\u001b[0m\u001b[0mcapacity\u001b[0m\u001b[0;34m,\u001b[0m \u001b[0mbatch_size\u001b[0m\u001b[0;34m=\u001b[0m\u001b[0mbatch_size\u001b[0m\u001b[0;34m,\u001b[0m \u001b[0mmin_transitions\u001b[0m\u001b[0;34m=\u001b[0m\u001b[0mmin_transitions\u001b[0m\u001b[0;34m)\u001b[0m\u001b[0;34m\u001b[0m\u001b[0;34m\u001b[0m\u001b[0m\n\u001b[0;32m----> 3\u001b[0;31m agent = Agent(buffer=buffer, state_size=state_size, action_size=action_size, hidden_size=hidden_size,\n\u001b[0m\u001b[1;32m      4\u001b[0m               learning_rate=learning_rate, logger=logger, eps_clip=eps_clip, n_epochs=epochs, weight_decay=weight_decay, betas=betas, loss_scales=loss_scales, discount=discount)\n\u001b[1;32m      5\u001b[0m runner = Runner(env=env, agent=agent, buffer=buffer, logger=logger, discount=discount, n_episodes=episodes, reward_scale=reward_scale, \n",
      "\u001b[0;32m<ipython-input-8-81ac3abb8e5b>\u001b[0m in \u001b[0;36m__init__\u001b[0;34m(self, buffer, state_size, action_size, hidden_size, learning_rate, logger, eps_clip, n_epochs, weight_decay, betas, loss_scales, discount, checkpoint_dir)\u001b[0m\n\u001b[1;32m      9\u001b[0m         \u001b[0mself\u001b[0m\u001b[0;34m.\u001b[0m\u001b[0mcheckpoint_dir\u001b[0m \u001b[0;34m=\u001b[0m \u001b[0mcheckpoint_dir\u001b[0m\u001b[0;34m\u001b[0m\u001b[0;34m\u001b[0m\u001b[0m\n\u001b[1;32m     10\u001b[0m         \u001b[0mself\u001b[0m\u001b[0;34m.\u001b[0m\u001b[0mmodel\u001b[0m \u001b[0;34m=\u001b[0m \u001b[0mActorCriticNet\u001b[0m\u001b[0;34m(\u001b[0m\u001b[0mstate_size\u001b[0m\u001b[0;34m,\u001b[0m \u001b[0maction_size\u001b[0m\u001b[0;34m,\u001b[0m \u001b[0mhidden_size\u001b[0m\u001b[0;34m)\u001b[0m\u001b[0;34m.\u001b[0m\u001b[0mto\u001b[0m\u001b[0;34m(\u001b[0m\u001b[0mdevice\u001b[0m\u001b[0;34m)\u001b[0m\u001b[0;34m\u001b[0m\u001b[0;34m\u001b[0m\u001b[0m\n\u001b[0;32m---> 11\u001b[0;31m         \u001b[0mself\u001b[0m\u001b[0;34m.\u001b[0m\u001b[0moptimizer\u001b[0m \u001b[0;34m=\u001b[0m \u001b[0moptim\u001b[0m\u001b[0;34m.\u001b[0m\u001b[0mAdam\u001b[0m\u001b[0;34m(\u001b[0m\u001b[0mself\u001b[0m\u001b[0;34m.\u001b[0m\u001b[0mmodel\u001b[0m\u001b[0;34m.\u001b[0m\u001b[0mparameters\u001b[0m\u001b[0;34m(\u001b[0m\u001b[0;34m)\u001b[0m\u001b[0;34m,\u001b[0m \u001b[0mlr\u001b[0m\u001b[0;34m=\u001b[0m\u001b[0mlearning_rate\u001b[0m\u001b[0;34m,\u001b[0m \u001b[0mbetas\u001b[0m\u001b[0;34m=\u001b[0m\u001b[0mbetas\u001b[0m\u001b[0;34m,\u001b[0m \u001b[0mweight_decay\u001b[0m\u001b[0;34m=\u001b[0m\u001b[0mweight_decay\u001b[0m\u001b[0;34m)\u001b[0m\u001b[0;34m\u001b[0m\u001b[0;34m\u001b[0m\u001b[0m\n\u001b[0m\u001b[1;32m     12\u001b[0m         \u001b[0mself\u001b[0m\u001b[0;34m.\u001b[0m\u001b[0mloss_scales\u001b[0m \u001b[0;34m=\u001b[0m \u001b[0mloss_scales\u001b[0m\u001b[0;34m\u001b[0m\u001b[0;34m\u001b[0m\u001b[0m\n\u001b[1;32m     13\u001b[0m         \u001b[0mself\u001b[0m\u001b[0;34m.\u001b[0m\u001b[0mn_epochs\u001b[0m \u001b[0;34m=\u001b[0m \u001b[0mn_epochs\u001b[0m\u001b[0;34m\u001b[0m\u001b[0;34m\u001b[0m\u001b[0m\n",
      "\u001b[0;32m~/.local/lib/python3.8/site-packages/torch/optim/adam.py\u001b[0m in \u001b[0;36m__init__\u001b[0;34m(self, params, lr, betas, eps, weight_decay, amsgrad)\u001b[0m\n\u001b[1;32m     34\u001b[0m     def __init__(self, params, lr=1e-3, betas=(0.9, 0.999), eps=1e-8,\n\u001b[1;32m     35\u001b[0m                  weight_decay=0, amsgrad=False):\n\u001b[0;32m---> 36\u001b[0;31m         \u001b[0;32mif\u001b[0m \u001b[0;32mnot\u001b[0m \u001b[0;36m0.0\u001b[0m \u001b[0;34m<=\u001b[0m \u001b[0mlr\u001b[0m\u001b[0;34m:\u001b[0m\u001b[0;34m\u001b[0m\u001b[0;34m\u001b[0m\u001b[0m\n\u001b[0m\u001b[1;32m     37\u001b[0m             \u001b[0;32mraise\u001b[0m \u001b[0mValueError\u001b[0m\u001b[0;34m(\u001b[0m\u001b[0;34m\"Invalid learning rate: {}\"\u001b[0m\u001b[0;34m.\u001b[0m\u001b[0mformat\u001b[0m\u001b[0;34m(\u001b[0m\u001b[0mlr\u001b[0m\u001b[0;34m)\u001b[0m\u001b[0;34m)\u001b[0m\u001b[0;34m\u001b[0m\u001b[0;34m\u001b[0m\u001b[0m\n\u001b[1;32m     38\u001b[0m         \u001b[0;32mif\u001b[0m \u001b[0;32mnot\u001b[0m \u001b[0;36m0.0\u001b[0m \u001b[0;34m<=\u001b[0m \u001b[0meps\u001b[0m\u001b[0;34m:\u001b[0m\u001b[0;34m\u001b[0m\u001b[0;34m\u001b[0m\u001b[0m\n",
      "\u001b[0;31mTypeError\u001b[0m: '<=' not supported between instances of 'float' and 'ellipsis'"
     ]
    }
   ],
   "source": [
    "logger = Logger()\n",
    "buffer = ReplayBuffer(capacity=capacity, batch_size=batch_size, min_transitions=min_transitions)\n",
    "agent = Agent(buffer=buffer, state_size=state_size, action_size=action_size, hidden_size=hidden_size,\n",
    "              learning_rate=learning_rate, logger=logger, eps_clip=eps_clip, n_epochs=epochs, weight_decay=weight_decay, betas=betas, loss_scales=loss_scales, discount=discount)\n",
    "runner = Runner(env=env, agent=agent, buffer=buffer, logger=logger, discount=discount, n_episodes=episodes, reward_scale=reward_scale, \n",
    "                use_buffer_reset=use_buffer_reset, print_stats=print_stats, render=render)"
   ]
  },
  {
   "cell_type": "code",
   "execution_count": null,
   "metadata": {
    "id": "HcrKd1wdrCwM"
   },
   "outputs": [],
   "source": [
    "runner.run()"
   ]
  },
  {
   "cell_type": "code",
   "execution_count": null,
   "metadata": {
    "id": "MDYzZesLftuD"
   },
   "outputs": [],
   "source": [
    "plot_results(runner, reward_scale=reward_scale)"
   ]
  },
  {
   "cell_type": "code",
   "execution_count": null,
   "metadata": {
    "id": "zPZIWvHYMcPd"
   },
   "outputs": [],
   "source": [
    "agent.save_onnx_checkpoint(0, 'export')"
   ]
  },
  {
   "cell_type": "markdown",
   "metadata": {
    "id": "mJNYxX6dMmj_"
   },
   "source": [
    "## Visualize Agent"
   ]
  },
  {
   "cell_type": "code",
   "execution_count": null,
   "metadata": {
    "id": "QcYYYwtZme8L"
   },
   "outputs": [],
   "source": [
    "# load model from checkpoint\n",
    "agent.resume_checkpoint('ckpts/best-checkpoint.pth')"
   ]
  },
  {
   "cell_type": "code",
   "execution_count": null,
   "metadata": {
    "id": "b-hyu2IQrCwU"
   },
   "outputs": [],
   "source": [
    "# run agent in the envrionment\n",
    "env, _, _ = create_env()\n",
    "agent.model.eval()\n",
    "test_environment(env=env, agent=agent)\n",
    "show_video()"
   ]
  },
  {
   "cell_type": "code",
   "execution_count": null,
   "metadata": {
    "id": "kmqNIqmo4hGd"
   },
   "outputs": [],
   "source": [
    "# export the ONNX actor \n",
    "agent.save_onnx_checkpoint(1, 'best')"
   ]
  },
  {
   "cell_type": "code",
   "execution_count": null,
   "metadata": {
    "id": "01j00s22JAtz"
   },
   "outputs": [],
   "source": []
  }
 ],
 "metadata": {
  "accelerator": "GPU",
  "colab": {
   "collapsed_sections": [],
   "name": "Challenge-RL_PolicyGradients_PPO-Continuous_Exercise.ipynb",
   "provenance": []
  },
  "kernelspec": {
   "display_name": "Python 3",
   "language": "python",
   "name": "python3"
  },
  "language_info": {
   "codemirror_mode": {
    "name": "ipython",
    "version": 3
   },
   "file_extension": ".py",
   "mimetype": "text/x-python",
   "name": "python",
   "nbconvert_exporter": "python",
   "pygments_lexer": "ipython3",
   "version": "3.8.5"
  }
 },
 "nbformat": 4,
 "nbformat_minor": 4
}
